{
  "cells": [
    {
      "cell_type": "code",
      "execution_count": 1,
      "metadata": {
        "id": "GpyvqjPMRBnQ"
      },
      "outputs": [],
      "source": [
        "import pandas as pd\n",
        "import glob"
      ]
    },
    {
      "cell_type": "code",
      "execution_count": 2,
      "metadata": {
        "id": "gmlyd8xWRmKp"
      },
      "outputs": [],
      "source": [
        "import seaborn as sns\n",
        "import matplotlib.pyplot as plt"
      ]
    },
    {
      "cell_type": "code",
      "execution_count": 3,
      "metadata": {
        "colab": {
          "base_uri": "https://localhost:8080/"
        },
        "id": "a3s_XzHLWwFg",
        "outputId": "f58bb5b6-6ca8-42f7-82c4-53561eaadb8b"
      },
      "outputs": [
        {
          "name": "stdout",
          "output_type": "stream",
          "text": [
            "Note: you may need to restart the kernel to use updated packages.\n"
          ]
        }
      ],
      "source": [
        "%pip install --quiet optuna"
      ]
    },
    {
      "cell_type": "code",
      "execution_count": 3,
      "metadata": {
        "id": "YMk7QmFSRzpG"
      },
      "outputs": [
        {
          "name": "stderr",
          "output_type": "stream",
          "text": [
            "/home/duarbrun/.local/lib/python3.10/site-packages/tqdm/auto.py:21: TqdmWarning: IProgress not found. Please update jupyter and ipywidgets. See https://ipywidgets.readthedocs.io/en/stable/user_install.html\n",
            "  from .autonotebook import tqdm as notebook_tqdm\n"
          ]
        }
      ],
      "source": [
        "import optuna\n",
        "import os"
      ]
    },
    {
      "cell_type": "code",
      "execution_count": 4,
      "metadata": {
        "colab": {
          "base_uri": "https://localhost:8080/",
          "height": 35
        },
        "id": "HwT6QlCwW1kV",
        "outputId": "db298222-b7ac-4a26-9f93-a93c633a8f54"
      },
      "outputs": [
        {
          "data": {
            "text/plain": [
              "'4.2.1'"
            ]
          },
          "execution_count": 4,
          "metadata": {},
          "output_type": "execute_result"
        }
      ],
      "source": [
        "optuna.__version__"
      ]
    },
    {
      "cell_type": "markdown",
      "metadata": {},
      "source": [
        "## TABU SEARCH"
      ]
    },
    {
      "cell_type": "code",
      "execution_count": 6,
      "metadata": {},
      "outputs": [],
      "source": [
        "files = ['4-FullIns_4', 'ash331GPIA', 'DSJC250.1', 'le450_15a', 'qg.order30', 'queen13_13']\n",
        "columns_tabu = ['conflitos', 'tempo_us', 'iter_found_best', \n",
        "           'max_iter', 'T_iter', 'num_color', 'filename', \n",
        "           'num_vertices', 'num_edges', 'init_method' ]"
      ]
    },
    {
      "cell_type": "code",
      "execution_count": null,
      "metadata": {},
      "outputs": [
        {
          "data": {
            "text/html": [
              "<div>\n",
              "<style scoped>\n",
              "    .dataframe tbody tr th:only-of-type {\n",
              "        vertical-align: middle;\n",
              "    }\n",
              "\n",
              "    .dataframe tbody tr th {\n",
              "        vertical-align: top;\n",
              "    }\n",
              "\n",
              "    .dataframe thead th {\n",
              "        text-align: right;\n",
              "    }\n",
              "</style>\n",
              "<table border=\"1\" class=\"dataframe\">\n",
              "  <thead>\n",
              "    <tr style=\"text-align: right;\">\n",
              "      <th></th>\n",
              "      <th>conflitos</th>\n",
              "      <th>tempo_us</th>\n",
              "      <th>iter_found_best</th>\n",
              "      <th>max_iter</th>\n",
              "      <th>T_iter</th>\n",
              "      <th>num_color</th>\n",
              "      <th>filename</th>\n",
              "      <th>num_vertices</th>\n",
              "      <th>num_edges</th>\n",
              "      <th>init_method</th>\n",
              "      <th>conflitos_norm</th>\n",
              "      <th>tempo_norm</th>\n",
              "    </tr>\n",
              "  </thead>\n",
              "  <tbody>\n",
              "    <tr>\n",
              "      <th>5755</th>\n",
              "      <td>60</td>\n",
              "      <td>11048850</td>\n",
              "      <td>163</td>\n",
              "      <td>10000</td>\n",
              "      <td>100</td>\n",
              "      <td>13</td>\n",
              "      <td>instances/queen13_13.col</td>\n",
              "      <td>169</td>\n",
              "      <td>6656</td>\n",
              "      <td>random</td>\n",
              "      <td>0.21875</td>\n",
              "      <td>0.755890</td>\n",
              "    </tr>\n",
              "    <tr>\n",
              "      <th>5756</th>\n",
              "      <td>62</td>\n",
              "      <td>11650160</td>\n",
              "      <td>262</td>\n",
              "      <td>10000</td>\n",
              "      <td>100</td>\n",
              "      <td>13</td>\n",
              "      <td>instances/queen13_13.col</td>\n",
              "      <td>169</td>\n",
              "      <td>6656</td>\n",
              "      <td>random</td>\n",
              "      <td>0.25000</td>\n",
              "      <td>0.797101</td>\n",
              "    </tr>\n",
              "    <tr>\n",
              "      <th>5757</th>\n",
              "      <td>64</td>\n",
              "      <td>14143315</td>\n",
              "      <td>188</td>\n",
              "      <td>10000</td>\n",
              "      <td>100</td>\n",
              "      <td>13</td>\n",
              "      <td>instances/queen13_13.col</td>\n",
              "      <td>169</td>\n",
              "      <td>6656</td>\n",
              "      <td>random</td>\n",
              "      <td>0.28125</td>\n",
              "      <td>0.967969</td>\n",
              "    </tr>\n",
              "    <tr>\n",
              "      <th>5758</th>\n",
              "      <td>56</td>\n",
              "      <td>11127899</td>\n",
              "      <td>177</td>\n",
              "      <td>10000</td>\n",
              "      <td>100</td>\n",
              "      <td>13</td>\n",
              "      <td>instances/queen13_13.col</td>\n",
              "      <td>169</td>\n",
              "      <td>6656</td>\n",
              "      <td>random</td>\n",
              "      <td>0.15625</td>\n",
              "      <td>0.761307</td>\n",
              "    </tr>\n",
              "    <tr>\n",
              "      <th>5759</th>\n",
              "      <td>60</td>\n",
              "      <td>12387752</td>\n",
              "      <td>149</td>\n",
              "      <td>10000</td>\n",
              "      <td>100</td>\n",
              "      <td>13</td>\n",
              "      <td>instances/queen13_13.col</td>\n",
              "      <td>169</td>\n",
              "      <td>6656</td>\n",
              "      <td>random</td>\n",
              "      <td>0.21875</td>\n",
              "      <td>0.847651</td>\n",
              "    </tr>\n",
              "  </tbody>\n",
              "</table>\n",
              "</div>"
            ],
            "text/plain": [
              "      conflitos  tempo_us  iter_found_best  max_iter  T_iter  num_color  \\\n",
              "5755         60  11048850              163     10000     100         13   \n",
              "5756         62  11650160              262     10000     100         13   \n",
              "5757         64  14143315              188     10000     100         13   \n",
              "5758         56  11127899              177     10000     100         13   \n",
              "5759         60  12387752              149     10000     100         13   \n",
              "\n",
              "                      filename  num_vertices  num_edges init_method  \\\n",
              "5755  instances/queen13_13.col           169       6656      random   \n",
              "5756  instances/queen13_13.col           169       6656      random   \n",
              "5757  instances/queen13_13.col           169       6656      random   \n",
              "5758  instances/queen13_13.col           169       6656      random   \n",
              "5759  instances/queen13_13.col           169       6656      random   \n",
              "\n",
              "      conflitos_norm  tempo_norm  \n",
              "5755         0.21875    0.755890  \n",
              "5756         0.25000    0.797101  \n",
              "5757         0.28125    0.967969  \n",
              "5758         0.15625    0.761307  \n",
              "5759         0.21875    0.847651  "
            ]
          },
          "execution_count": 11,
          "metadata": {},
          "output_type": "execute_result"
        }
      ],
      "source": [
        "dfs = []\n",
        "\n",
        "for file in files:\n",
        "    df = pd.read_csv(f'results/tabu/analysis/{file}.txt', sep=';', names=columns_tabu, header=None)\n",
        "    df['conflitos_norm'] = (df[\"conflitos\"] - df[\"conflitos\"].min()) / (df[\"conflitos\"].max() - df[\"conflitos\"].min() if df[\"conflitos\"].max()!= df[\"conflitos\"].min() else 0)\n",
        "    df['tempo_norm'] = (df[\"tempo_us\"] - df[\"tempo_us\"].min()) / (df[\"tempo_us\"].max() - df[\"tempo_us\"].min() if df[\"tempo_us\"].max()!= df[\"tempo_us\"].min() else 0)\n",
        "    dfs.append(df)\n",
        "\n",
        "df_tabu = pd.concat(dfs, ignore_index=True)\n",
        "df_tabu.tail()"
      ]
    },
    {
      "cell_type": "code",
      "execution_count": 14,
      "metadata": {},
      "outputs": [],
      "source": [
        "df_tabu['conflitos_norm'] = (df_tabu[\"conflitos\"] - df_tabu[\"conflitos\"].min()) / (df_tabu[\"conflitos\"].max() - df_tabu[\"conflitos\"].min() if df_tabu[\"conflitos\"].max()!= df_tabu[\"conflitos\"].min() else 0)\n",
        "df_tabu['tempo_norm'] = (df_tabu[\"tempo_us\"] - df_tabu[\"tempo_us\"].min()) / (df_tabu[\"tempo_us\"].max() - df_tabu[\"tempo_us\"].min() if df_tabu[\"tempo_us\"].max()!= df_tabu[\"tempo_us\"].min() else 0)\n",
        "def objective_v4(trial):\n",
        "    \"\"\"Função objetivo para o Optuna, buscando a melhor configuração de parâmetros já testada.\"\"\"\n",
        "\n",
        "    # Optuna irá escolher um conjunto de parâmetros dentro dos valores existentes\n",
        "    T_iter = trial.suggest_categorical(\"T_iter\", df_tabu[\"T_iter\"].unique().tolist())\n",
        "    max_iter = trial.suggest_categorical(\"max_iter\", df_tabu[\"max_iter\"].unique().tolist())\n",
        "    init_method = trial.suggest_categorical(\"init_method\", df_tabu[\"init_method\"].unique().tolist())\n",
        "\n",
        "    # Filtrar apenas as execuções com esses parâmetros\n",
        "    subset = df_tabu[(df_tabu[\"T_iter\"] == T_iter) &\n",
        "                (df_tabu[\"max_iter\"] == max_iter) &\n",
        "                (df_tabu[\"init_method\"] == init_method)]\n",
        "\n",
        "    alpha = 1  # Peso para conflitos\n",
        "    beta = 0   # Peso para tempo\n",
        "    score = alpha * subset[\"conflitos_norm\"].mean() + beta * subset[\"tempo_norm\"].mean()\n",
        "    \n",
        "\n",
        "    return score  # O Optuna busca minimizar esse valor\n"
      ]
    },
    {
      "cell_type": "code",
      "execution_count": 22,
      "metadata": {},
      "outputs": [
        {
          "name": "stderr",
          "output_type": "stream",
          "text": [
            "[I 2025-04-07 15:23:07,200] A new study created in memory with name: no-name-21bd01fc-3c4a-49be-9390-c768fab0ff96\n",
            "[I 2025-04-07 15:23:07,211] Trial 0 finished with value: 0.24393939393939393 and parameters: {'T_iter': 75, 'max_iter': 10000, 'init_method': 'pseudogreedy_v3'}. Best is trial 0 with value: 0.24393939393939393.\n",
            "[I 2025-04-07 15:23:07,215] Trial 1 finished with value: 0.24643939393939393 and parameters: {'T_iter': 25, 'max_iter': 10000, 'init_method': 'random'}. Best is trial 0 with value: 0.24393939393939393.\n",
            "[I 2025-04-07 15:23:07,219] Trial 2 finished with value: 0.3259848484848485 and parameters: {'T_iter': 10, 'max_iter': 100, 'init_method': 'random'}. Best is trial 0 with value: 0.24393939393939393.\n",
            "[I 2025-04-07 15:23:07,223] Trial 3 finished with value: 0.3712878787878787 and parameters: {'T_iter': 5, 'max_iter': 1000, 'init_method': 'pseudogreedy_v3'}. Best is trial 0 with value: 0.24393939393939393.\n",
            "[I 2025-04-07 15:23:07,228] Trial 4 finished with value: 0.3156060606060606 and parameters: {'T_iter': 10, 'max_iter': 10000, 'init_method': 'random'}. Best is trial 0 with value: 0.24393939393939393.\n",
            "[I 2025-04-07 15:23:07,232] Trial 5 finished with value: 0.2548484848484848 and parameters: {'T_iter': 25, 'max_iter': 1000, 'init_method': 'random'}. Best is trial 0 with value: 0.24393939393939393.\n",
            "[I 2025-04-07 15:23:07,237] Trial 6 finished with value: 0.27530303030303027 and parameters: {'T_iter': 50, 'max_iter': 100, 'init_method': 'random'}. Best is trial 0 with value: 0.24393939393939393.\n",
            "[I 2025-04-07 15:23:07,242] Trial 7 finished with value: 0.24393939393939393 and parameters: {'T_iter': 75, 'max_iter': 10000, 'init_method': 'pseudogreedy_v3'}. Best is trial 0 with value: 0.24393939393939393.\n",
            "[I 2025-04-07 15:23:07,250] Trial 8 finished with value: 0.2571212121212121 and parameters: {'T_iter': 50, 'max_iter': 1000, 'init_method': 'random'}. Best is trial 0 with value: 0.24393939393939393.\n",
            "[I 2025-04-07 15:23:07,256] Trial 9 finished with value: 0.25386363636363635 and parameters: {'T_iter': 50, 'max_iter': 10000, 'init_method': 'pseudogreedy_v3'}. Best is trial 0 with value: 0.24393939393939393.\n",
            "[I 2025-04-07 15:23:07,267] Trial 10 finished with value: 0.40045454545454545 and parameters: {'T_iter': 75, 'max_iter': 10, 'init_method': 'pseudogreedy_v3'}. Best is trial 0 with value: 0.24393939393939393.\n",
            "[I 2025-04-07 15:23:07,277] Trial 11 finished with value: 0.24393939393939393 and parameters: {'T_iter': 75, 'max_iter': 10000, 'init_method': 'pseudogreedy_v3'}. Best is trial 0 with value: 0.24393939393939393.\n",
            "[I 2025-04-07 15:23:07,286] Trial 12 finished with value: 0.24393939393939393 and parameters: {'T_iter': 75, 'max_iter': 10000, 'init_method': 'pseudogreedy_v3'}. Best is trial 0 with value: 0.24393939393939393.\n",
            "[I 2025-04-07 15:23:07,297] Trial 13 finished with value: 0.40515151515151515 and parameters: {'T_iter': 100, 'max_iter': 10, 'init_method': 'pseudogreedy_v3'}. Best is trial 0 with value: 0.24393939393939393.\n",
            "[I 2025-04-07 15:23:07,303] Trial 14 finished with value: 0.24393939393939393 and parameters: {'T_iter': 75, 'max_iter': 10000, 'init_method': 'pseudogreedy_v3'}. Best is trial 0 with value: 0.24393939393939393.\n",
            "[I 2025-04-07 15:23:07,309] Trial 15 finished with value: 0.24393939393939393 and parameters: {'T_iter': 75, 'max_iter': 10000, 'init_method': 'pseudogreedy_v3'}. Best is trial 0 with value: 0.24393939393939393.\n",
            "[I 2025-04-07 15:23:07,315] Trial 16 finished with value: 0.25803030303030305 and parameters: {'T_iter': 100, 'max_iter': 10000, 'init_method': 'pseudogreedy_v3'}. Best is trial 0 with value: 0.24393939393939393.\n",
            "[I 2025-04-07 15:23:07,324] Trial 17 finished with value: 0.3741666666666667 and parameters: {'T_iter': 5, 'max_iter': 100, 'init_method': 'pseudogreedy_v3'}. Best is trial 0 with value: 0.24393939393939393.\n",
            "[I 2025-04-07 15:23:07,330] Trial 18 finished with value: 0.40045454545454545 and parameters: {'T_iter': 75, 'max_iter': 10, 'init_method': 'pseudogreedy_v3'}. Best is trial 0 with value: 0.24393939393939393.\n",
            "[I 2025-04-07 15:23:07,335] Trial 19 finished with value: 0.24393939393939393 and parameters: {'T_iter': 75, 'max_iter': 10000, 'init_method': 'pseudogreedy_v3'}. Best is trial 0 with value: 0.24393939393939393.\n",
            "[I 2025-04-07 15:23:07,341] Trial 20 finished with value: 0.24393939393939393 and parameters: {'T_iter': 75, 'max_iter': 10000, 'init_method': 'pseudogreedy_v3'}. Best is trial 0 with value: 0.24393939393939393.\n",
            "[I 2025-04-07 15:23:07,346] Trial 21 finished with value: 0.24393939393939393 and parameters: {'T_iter': 75, 'max_iter': 10000, 'init_method': 'pseudogreedy_v3'}. Best is trial 0 with value: 0.24393939393939393.\n",
            "[I 2025-04-07 15:23:07,352] Trial 22 finished with value: 0.24393939393939393 and parameters: {'T_iter': 75, 'max_iter': 10000, 'init_method': 'pseudogreedy_v3'}. Best is trial 0 with value: 0.24393939393939393.\n",
            "[I 2025-04-07 15:23:07,358] Trial 23 finished with value: 0.24393939393939393 and parameters: {'T_iter': 75, 'max_iter': 10000, 'init_method': 'pseudogreedy_v3'}. Best is trial 0 with value: 0.24393939393939393.\n",
            "[I 2025-04-07 15:23:07,364] Trial 24 finished with value: 0.24393939393939393 and parameters: {'T_iter': 75, 'max_iter': 10000, 'init_method': 'pseudogreedy_v3'}. Best is trial 0 with value: 0.24393939393939393.\n",
            "[I 2025-04-07 15:23:07,370] Trial 25 finished with value: 0.24704545454545454 and parameters: {'T_iter': 25, 'max_iter': 10000, 'init_method': 'pseudogreedy_v3'}. Best is trial 0 with value: 0.24393939393939393.\n",
            "[I 2025-04-07 15:23:07,376] Trial 26 finished with value: 0.40515151515151515 and parameters: {'T_iter': 100, 'max_iter': 10, 'init_method': 'pseudogreedy_v3'}. Best is trial 0 with value: 0.24393939393939393.\n",
            "[I 2025-04-07 15:23:07,382] Trial 27 finished with value: 0.3741666666666667 and parameters: {'T_iter': 5, 'max_iter': 100, 'init_method': 'pseudogreedy_v3'}. Best is trial 0 with value: 0.24393939393939393.\n",
            "[I 2025-04-07 15:23:07,389] Trial 28 finished with value: 0.3104545454545454 and parameters: {'T_iter': 10, 'max_iter': 1000, 'init_method': 'pseudogreedy_v3'}. Best is trial 0 with value: 0.24393939393939393.\n",
            "[I 2025-04-07 15:23:07,395] Trial 29 finished with value: 0.24643939393939393 and parameters: {'T_iter': 25, 'max_iter': 10000, 'init_method': 'random'}. Best is trial 0 with value: 0.24393939393939393.\n",
            "[I 2025-04-07 15:23:07,401] Trial 30 finished with value: 0.24393939393939393 and parameters: {'T_iter': 75, 'max_iter': 10000, 'init_method': 'pseudogreedy_v3'}. Best is trial 0 with value: 0.24393939393939393.\n"
          ]
        },
        {
          "name": "stdout",
          "output_type": "stream",
          "text": [
            "48\n"
          ]
        },
        {
          "name": "stderr",
          "output_type": "stream",
          "text": [
            "[I 2025-04-07 15:23:07,407] Trial 31 finished with value: 0.24393939393939393 and parameters: {'T_iter': 75, 'max_iter': 10000, 'init_method': 'pseudogreedy_v3'}. Best is trial 0 with value: 0.24393939393939393.\n",
            "[I 2025-04-07 15:23:07,414] Trial 32 finished with value: 0.24393939393939393 and parameters: {'T_iter': 75, 'max_iter': 10000, 'init_method': 'pseudogreedy_v3'}. Best is trial 0 with value: 0.24393939393939393.\n",
            "[I 2025-04-07 15:23:07,421] Trial 33 finished with value: 0.24393939393939393 and parameters: {'T_iter': 75, 'max_iter': 10000, 'init_method': 'pseudogreedy_v3'}. Best is trial 0 with value: 0.24393939393939393.\n",
            "[I 2025-04-07 15:23:07,429] Trial 34 finished with value: 0.3156060606060606 and parameters: {'T_iter': 10, 'max_iter': 10000, 'init_method': 'random'}. Best is trial 0 with value: 0.24393939393939393.\n",
            "[I 2025-04-07 15:23:07,437] Trial 35 finished with value: 0.2727272727272727 and parameters: {'T_iter': 75, 'max_iter': 100, 'init_method': 'pseudogreedy_v3'}. Best is trial 0 with value: 0.24393939393939393.\n",
            "[I 2025-04-07 15:23:07,444] Trial 36 finished with value: 0.2562878787878788 and parameters: {'T_iter': 75, 'max_iter': 1000, 'init_method': 'random'}. Best is trial 0 with value: 0.24393939393939393.\n",
            "[I 2025-04-07 15:23:07,452] Trial 37 finished with value: 0.365 and parameters: {'T_iter': 5, 'max_iter': 10000, 'init_method': 'pseudogreedy_v3'}. Best is trial 0 with value: 0.24393939393939393.\n",
            "[I 2025-04-07 15:23:07,458] Trial 38 finished with value: 0.25196969696969695 and parameters: {'T_iter': 50, 'max_iter': 10000, 'init_method': 'random'}. Best is trial 0 with value: 0.24393939393939393.\n",
            "[I 2025-04-07 15:23:07,464] Trial 39 finished with value: 0.3104545454545454 and parameters: {'T_iter': 10, 'max_iter': 1000, 'init_method': 'pseudogreedy_v3'}. Best is trial 0 with value: 0.24393939393939393.\n",
            "[I 2025-04-07 15:23:07,471] Trial 40 finished with value: 0.2517424242424242 and parameters: {'T_iter': 25, 'max_iter': 100, 'init_method': 'pseudogreedy_v3'}. Best is trial 0 with value: 0.24393939393939393.\n",
            "[I 2025-04-07 15:23:07,477] Trial 41 finished with value: 0.24393939393939393 and parameters: {'T_iter': 75, 'max_iter': 10000, 'init_method': 'pseudogreedy_v3'}. Best is trial 0 with value: 0.24393939393939393.\n",
            "[I 2025-04-07 15:23:07,483] Trial 42 finished with value: 0.24393939393939393 and parameters: {'T_iter': 75, 'max_iter': 10000, 'init_method': 'pseudogreedy_v3'}. Best is trial 0 with value: 0.24393939393939393.\n",
            "[I 2025-04-07 15:23:07,490] Trial 43 finished with value: 0.24393939393939393 and parameters: {'T_iter': 75, 'max_iter': 10000, 'init_method': 'pseudogreedy_v3'}. Best is trial 0 with value: 0.24393939393939393.\n",
            "[I 2025-04-07 15:23:07,496] Trial 44 finished with value: 0.25386363636363635 and parameters: {'T_iter': 50, 'max_iter': 10000, 'init_method': 'pseudogreedy_v3'}. Best is trial 0 with value: 0.24393939393939393.\n",
            "[I 2025-04-07 15:23:07,503] Trial 45 finished with value: 0.40515151515151515 and parameters: {'T_iter': 100, 'max_iter': 10, 'init_method': 'pseudogreedy_v3'}. Best is trial 0 with value: 0.24393939393939393.\n",
            "[I 2025-04-07 15:23:07,510] Trial 46 finished with value: 0.2546969696969697 and parameters: {'T_iter': 75, 'max_iter': 10000, 'init_method': 'random'}. Best is trial 0 with value: 0.24393939393939393.\n",
            "[I 2025-04-07 15:23:07,517] Trial 47 finished with value: 0.24393939393939393 and parameters: {'T_iter': 75, 'max_iter': 10000, 'init_method': 'pseudogreedy_v3'}. Best is trial 0 with value: 0.24393939393939393.\n"
          ]
        },
        {
          "name": "stdout",
          "output_type": "stream",
          "text": [
            "Melhores parâmetros encontrados:\n",
            "{'T_iter': 75, 'max_iter': 10000, 'init_method': 'pseudogreedy_v3'}\n"
          ]
        }
      ],
      "source": [
        "n_trials = df_tabu[[\"T_iter\", \"max_iter\", \"init_method\"]].drop_duplicates().shape[0]\n",
        "\n",
        "print(n_trials)\n",
        "\n",
        "# Criar e rodar a otimização\n",
        "study = optuna.create_study(direction=\"minimize\")\n",
        "study.optimize(objective_v4, n_trials=n_trials)  # Ajuste o número de trials conforme necessário\n",
        "\n",
        "# Exibir os melhores parâmetros encontrados\n",
        "print(\"Melhores parâmetros encontrados:\")\n",
        "print(study.best_params)"
      ]
    },
    {
      "cell_type": "markdown",
      "metadata": {},
      "source": [
        "## SIMULATED ANNEALING"
      ]
    },
    {
      "cell_type": "code",
      "execution_count": 1,
      "metadata": {},
      "outputs": [],
      "source": [
        "files = ['4-FullIns_4', 'ash331GPIA', 'DSJC250.1', 'le450_15a', 'qg.order30', 'queen13_13']\n",
        "columns_sa = ['conflitos', 'tempo_us', 'T_max', 'T_min', \n",
        "                'max_iter', 'max_worsen', 'alpha', 'iter_found_best',\n",
        "                'curr_Temp', 'filename', 'num_vertices', 'num_edges', 'init_method' ]"
      ]
    },
    {
      "cell_type": "code",
      "execution_count": null,
      "metadata": {},
      "outputs": [
        {
          "data": {
            "text/html": [
              "<div>\n",
              "<style scoped>\n",
              "    .dataframe tbody tr th:only-of-type {\n",
              "        vertical-align: middle;\n",
              "    }\n",
              "\n",
              "    .dataframe tbody tr th {\n",
              "        vertical-align: top;\n",
              "    }\n",
              "\n",
              "    .dataframe thead th {\n",
              "        text-align: right;\n",
              "    }\n",
              "</style>\n",
              "<table border=\"1\" class=\"dataframe\">\n",
              "  <thead>\n",
              "    <tr style=\"text-align: right;\">\n",
              "      <th></th>\n",
              "      <th>conflitos</th>\n",
              "      <th>tempo_us</th>\n",
              "      <th>T_max</th>\n",
              "      <th>T_min</th>\n",
              "      <th>max_iter</th>\n",
              "      <th>max_worsen</th>\n",
              "      <th>alpha</th>\n",
              "      <th>iter_found_best</th>\n",
              "      <th>curr_Temp</th>\n",
              "      <th>filename</th>\n",
              "      <th>num_vertices</th>\n",
              "      <th>num_edges</th>\n",
              "      <th>init_method</th>\n",
              "      <th>conflitos_norm</th>\n",
              "      <th>tempo_norm</th>\n",
              "    </tr>\n",
              "  </thead>\n",
              "  <tbody>\n",
              "    <tr>\n",
              "      <th>0</th>\n",
              "      <td>636</td>\n",
              "      <td>850800</td>\n",
              "      <td>100</td>\n",
              "      <td>10</td>\n",
              "      <td>1000</td>\n",
              "      <td>1000</td>\n",
              "      <td>0.6</td>\n",
              "      <td>7354</td>\n",
              "      <td>7</td>\n",
              "      <td>instances/4-FullIns_4.col</td>\n",
              "      <td>690</td>\n",
              "      <td>6650</td>\n",
              "      <td>random</td>\n",
              "      <td>0.925743</td>\n",
              "      <td>0.002494</td>\n",
              "    </tr>\n",
              "    <tr>\n",
              "      <th>1</th>\n",
              "      <td>616</td>\n",
              "      <td>898268</td>\n",
              "      <td>100</td>\n",
              "      <td>10</td>\n",
              "      <td>1000</td>\n",
              "      <td>1000</td>\n",
              "      <td>0.6</td>\n",
              "      <td>8085</td>\n",
              "      <td>7</td>\n",
              "      <td>instances/4-FullIns_4.col</td>\n",
              "      <td>690</td>\n",
              "      <td>6650</td>\n",
              "      <td>random</td>\n",
              "      <td>0.892739</td>\n",
              "      <td>0.006902</td>\n",
              "    </tr>\n",
              "    <tr>\n",
              "      <th>2</th>\n",
              "      <td>612</td>\n",
              "      <td>895010</td>\n",
              "      <td>100</td>\n",
              "      <td>10</td>\n",
              "      <td>1000</td>\n",
              "      <td>1000</td>\n",
              "      <td>0.6</td>\n",
              "      <td>7669</td>\n",
              "      <td>7</td>\n",
              "      <td>instances/4-FullIns_4.col</td>\n",
              "      <td>690</td>\n",
              "      <td>6650</td>\n",
              "      <td>random</td>\n",
              "      <td>0.886139</td>\n",
              "      <td>0.006600</td>\n",
              "    </tr>\n",
              "    <tr>\n",
              "      <th>3</th>\n",
              "      <td>649</td>\n",
              "      <td>885161</td>\n",
              "      <td>100</td>\n",
              "      <td>10</td>\n",
              "      <td>1000</td>\n",
              "      <td>1000</td>\n",
              "      <td>0.6</td>\n",
              "      <td>5471</td>\n",
              "      <td>7</td>\n",
              "      <td>instances/4-FullIns_4.col</td>\n",
              "      <td>690</td>\n",
              "      <td>6650</td>\n",
              "      <td>random</td>\n",
              "      <td>0.947195</td>\n",
              "      <td>0.005685</td>\n",
              "    </tr>\n",
              "    <tr>\n",
              "      <th>4</th>\n",
              "      <td>635</td>\n",
              "      <td>841120</td>\n",
              "      <td>100</td>\n",
              "      <td>10</td>\n",
              "      <td>1000</td>\n",
              "      <td>1000</td>\n",
              "      <td>0.6</td>\n",
              "      <td>8415</td>\n",
              "      <td>7</td>\n",
              "      <td>instances/4-FullIns_4.col</td>\n",
              "      <td>690</td>\n",
              "      <td>6650</td>\n",
              "      <td>random</td>\n",
              "      <td>0.924092</td>\n",
              "      <td>0.001595</td>\n",
              "    </tr>\n",
              "  </tbody>\n",
              "</table>\n",
              "</div>"
            ],
            "text/plain": [
              "   conflitos  tempo_us  T_max  T_min  max_iter  max_worsen  alpha  \\\n",
              "0        636    850800    100     10      1000        1000    0.6   \n",
              "1        616    898268    100     10      1000        1000    0.6   \n",
              "2        612    895010    100     10      1000        1000    0.6   \n",
              "3        649    885161    100     10      1000        1000    0.6   \n",
              "4        635    841120    100     10      1000        1000    0.6   \n",
              "\n",
              "   iter_found_best  curr_Temp                   filename  num_vertices  \\\n",
              "0             7354          7  instances/4-FullIns_4.col           690   \n",
              "1             8085          7  instances/4-FullIns_4.col           690   \n",
              "2             7669          7  instances/4-FullIns_4.col           690   \n",
              "3             5471          7  instances/4-FullIns_4.col           690   \n",
              "4             8415          7  instances/4-FullIns_4.col           690   \n",
              "\n",
              "   num_edges init_method  conflitos_norm  tempo_norm  \n",
              "0       6650      random        0.925743    0.002494  \n",
              "1       6650      random        0.892739    0.006902  \n",
              "2       6650      random        0.886139    0.006600  \n",
              "3       6650      random        0.947195    0.005685  \n",
              "4       6650      random        0.924092    0.001595  "
            ]
          },
          "execution_count": 33,
          "metadata": {},
          "output_type": "execute_result"
        }
      ],
      "source": [
        "dfs = []\n",
        "\n",
        "for file in files:\n",
        "    df = pd.read_csv(f'results/sa/analysis/{file}.txt', sep=';', names=columns_sa, header=None)\n",
        "    df['conflitos_norm'] = (df[\"conflitos\"] - df[\"conflitos\"].min()) / (df[\"conflitos\"].max() - df[\"conflitos\"].min() if df[\"conflitos\"].max()!= df[\"conflitos\"].min() else 0)\n",
        "    df['tempo_norm'] = (df[\"tempo_us\"] - df[\"tempo_us\"].min()) / (df[\"tempo_us\"].max() - df[\"tempo_us\"].min() if df[\"tempo_us\"].max()!= df[\"tempo_us\"].min() else 0)\n",
        "    dfs.append(df)\n",
        "\n",
        "df_sa = pd.concat(dfs, ignore_index=True)\n",
        "df_sa.head()"
      ]
    },
    {
      "cell_type": "code",
      "execution_count": 37,
      "metadata": {},
      "outputs": [],
      "source": [
        "df_sa['conflitos_norm'] = (df_sa[\"conflitos\"] - df_sa[\"conflitos\"].min()) / (df_sa[\"conflitos\"].max() - df_sa[\"conflitos\"].min() if df_sa[\"conflitos\"].max()!= df_sa[\"conflitos\"].min() else 0)\n",
        "df_sa['tempo_norm'] = (df_sa[\"tempo_us\"] - df_sa[\"tempo_us\"].min()) / (df_sa[\"tempo_us\"].max() - df_sa[\"tempo_us\"].min() if df_sa[\"tempo_us\"].max()!= df_sa[\"tempo_us\"].min() else 0)\n",
        "df_sa[df_sa['init_method']=='random']\n",
        "def objective_v5(trial):\n",
        "    \"\"\"Função objetivo para o Optuna, buscando a melhor configuração de parâmetros já testada.\"\"\"\n",
        "\n",
        "    # Optuna irá escolher um conjunto de parâmetros dentro dos valores existentes\n",
        "    T_max = trial.suggest_categorical(\"T_max\", df_sa[\"T_max\"].unique().tolist())\n",
        "    alpha = trial.suggest_categorical(\"alpha\", df_sa[\"alpha\"].unique().tolist())\n",
        "    # init_method = trial.suggest_categorical(\"init_method\", df_sa[\"init_method\"].unique().tolist())\n",
        "\n",
        "    # Filtrar apenas as execuções com esses parâmetros\n",
        "    subset = df_sa[(df_sa[\"T_max\"] == T_max) &\n",
        "                (df_sa[\"alpha\"] == alpha) ]\n",
        "\n",
        "    alpha = 1  # Peso para conflitos\n",
        "    beta = 0   # Peso para tempo\n",
        "    score = alpha * subset[\"conflitos_norm\"].mean() + beta * subset[\"tempo_norm\"].mean()\n",
        "    \n",
        "\n",
        "    return score  # O Optuna busca minimizar esse valor\n"
      ]
    },
    {
      "cell_type": "code",
      "execution_count": 38,
      "metadata": {},
      "outputs": [
        {
          "name": "stderr",
          "output_type": "stream",
          "text": [
            "[I 2025-04-20 23:19:01,489] A new study created in memory with name: no-name-ac949949-400a-4d52-a720-dbc591a0bbea\n",
            "[I 2025-04-20 23:19:01,492] Trial 0 finished with value: 0.3453586497890295 and parameters: {'T_max': 1000, 'alpha': 0.8}. Best is trial 0 with value: 0.3453586497890295.\n",
            "[I 2025-04-20 23:19:01,493] Trial 1 finished with value: 0.35037505860290674 and parameters: {'T_max': 10000, 'alpha': 0.7}. Best is trial 0 with value: 0.3453586497890295.\n",
            "[I 2025-04-20 23:19:01,496] Trial 2 finished with value: 0.3469936708860759 and parameters: {'T_max': 100, 'alpha': 0.7}. Best is trial 0 with value: 0.3453586497890295.\n",
            "[I 2025-04-20 23:19:01,497] Trial 3 finished with value: 0.3472222222222222 and parameters: {'T_max': 5000, 'alpha': 0.8}. Best is trial 0 with value: 0.3453586497890295.\n",
            "[I 2025-04-20 23:19:01,499] Trial 4 finished with value: 0.34172526957337085 and parameters: {'T_max': 10000, 'alpha': 0.9}. Best is trial 4 with value: 0.34172526957337085.\n",
            "[I 2025-04-20 23:19:01,501] Trial 5 finished with value: 0.34478434130332863 and parameters: {'T_max': 100, 'alpha': 0.8}. Best is trial 4 with value: 0.34172526957337085.\n",
            "[I 2025-04-20 23:19:01,502] Trial 6 finished with value: 0.33939287388654477 and parameters: {'T_max': 100, 'alpha': 0.9}. Best is trial 6 with value: 0.33939287388654477.\n",
            "[I 2025-04-20 23:19:01,504] Trial 7 finished with value: 0.34104547585560235 and parameters: {'T_max': 1000, 'alpha': 0.9}. Best is trial 6 with value: 0.33939287388654477.\n",
            "[I 2025-04-20 23:19:01,506] Trial 8 finished with value: 0.3534751523675574 and parameters: {'T_max': 1000, 'alpha': 0.6}. Best is trial 6 with value: 0.33939287388654477.\n",
            "[I 2025-04-20 23:19:01,508] Trial 9 finished with value: 0.3453586497890295 and parameters: {'T_max': 1000, 'alpha': 0.8}. Best is trial 6 with value: 0.33939287388654477.\n",
            "[I 2025-04-20 23:19:01,511] Trial 10 finished with value: 0.33939287388654477 and parameters: {'T_max': 100, 'alpha': 0.9}. Best is trial 6 with value: 0.33939287388654477.\n",
            "[I 2025-04-20 23:19:01,513] Trial 11 finished with value: 0.33939287388654477 and parameters: {'T_max': 100, 'alpha': 0.9}. Best is trial 6 with value: 0.33939287388654477.\n",
            "[I 2025-04-20 23:19:01,515] Trial 12 finished with value: 0.33939287388654477 and parameters: {'T_max': 100, 'alpha': 0.9}. Best is trial 6 with value: 0.33939287388654477.\n",
            "[I 2025-04-20 23:19:01,517] Trial 13 finished with value: 0.33939287388654477 and parameters: {'T_max': 100, 'alpha': 0.9}. Best is trial 6 with value: 0.33939287388654477.\n",
            "[I 2025-04-20 23:19:01,519] Trial 14 finished with value: 0.354746835443038 and parameters: {'T_max': 5000, 'alpha': 0.6}. Best is trial 6 with value: 0.33939287388654477.\n",
            "[I 2025-04-20 23:19:01,522] Trial 15 finished with value: 0.33939287388654477 and parameters: {'T_max': 100, 'alpha': 0.9}. Best is trial 6 with value: 0.33939287388654477.\n",
            "[I 2025-04-20 23:19:01,525] Trial 16 finished with value: 0.33939287388654477 and parameters: {'T_max': 100, 'alpha': 0.9}. Best is trial 6 with value: 0.33939287388654477.\n",
            "[I 2025-04-20 23:19:01,527] Trial 17 finished with value: 0.33939287388654477 and parameters: {'T_max': 100, 'alpha': 0.9}. Best is trial 6 with value: 0.33939287388654477.\n",
            "[I 2025-04-20 23:19:01,529] Trial 18 finished with value: 0.35037505860290674 and parameters: {'T_max': 10000, 'alpha': 0.7}. Best is trial 6 with value: 0.33939287388654477.\n",
            "[I 2025-04-20 23:19:01,531] Trial 19 finished with value: 0.354746835443038 and parameters: {'T_max': 5000, 'alpha': 0.6}. Best is trial 6 with value: 0.33939287388654477.\n",
            "[I 2025-04-20 23:19:01,533] Trial 20 finished with value: 0.33939287388654477 and parameters: {'T_max': 100, 'alpha': 0.9}. Best is trial 6 with value: 0.33939287388654477.\n",
            "[I 2025-04-20 23:19:01,535] Trial 21 finished with value: 0.33939287388654477 and parameters: {'T_max': 100, 'alpha': 0.9}. Best is trial 6 with value: 0.33939287388654477.\n",
            "[I 2025-04-20 23:19:01,538] Trial 22 finished with value: 0.33939287388654477 and parameters: {'T_max': 100, 'alpha': 0.9}. Best is trial 6 with value: 0.33939287388654477.\n",
            "[I 2025-04-20 23:19:01,544] Trial 23 finished with value: 0.33939287388654477 and parameters: {'T_max': 100, 'alpha': 0.9}. Best is trial 6 with value: 0.33939287388654477.\n",
            "[I 2025-04-20 23:19:01,550] Trial 24 finished with value: 0.33939287388654477 and parameters: {'T_max': 100, 'alpha': 0.9}. Best is trial 6 with value: 0.33939287388654477.\n",
            "[I 2025-04-20 23:19:01,553] Trial 25 finished with value: 0.33939287388654477 and parameters: {'T_max': 100, 'alpha': 0.9}. Best is trial 6 with value: 0.33939287388654477.\n",
            "[I 2025-04-20 23:19:01,556] Trial 26 finished with value: 0.33939287388654477 and parameters: {'T_max': 100, 'alpha': 0.9}. Best is trial 6 with value: 0.33939287388654477.\n",
            "[I 2025-04-20 23:19:01,558] Trial 27 finished with value: 0.35052156586966715 and parameters: {'T_max': 5000, 'alpha': 0.7}. Best is trial 6 with value: 0.33939287388654477.\n",
            "[I 2025-04-20 23:19:01,560] Trial 28 finished with value: 0.3473804500703235 and parameters: {'T_max': 10000, 'alpha': 0.6}. Best is trial 6 with value: 0.33939287388654477.\n",
            "[I 2025-04-20 23:19:01,563] Trial 29 finished with value: 0.3453586497890295 and parameters: {'T_max': 1000, 'alpha': 0.8}. Best is trial 6 with value: 0.33939287388654477.\n",
            "[I 2025-04-20 23:19:01,565] Trial 30 finished with value: 0.33939287388654477 and parameters: {'T_max': 100, 'alpha': 0.9}. Best is trial 6 with value: 0.33939287388654477.\n",
            "[I 2025-04-20 23:19:01,568] Trial 31 finished with value: 0.33939287388654477 and parameters: {'T_max': 100, 'alpha': 0.9}. Best is trial 6 with value: 0.33939287388654477.\n",
            "[I 2025-04-20 23:19:01,570] Trial 32 finished with value: 0.33939287388654477 and parameters: {'T_max': 100, 'alpha': 0.9}. Best is trial 6 with value: 0.33939287388654477.\n",
            "[I 2025-04-20 23:19:01,572] Trial 33 finished with value: 0.33939287388654477 and parameters: {'T_max': 100, 'alpha': 0.9}. Best is trial 6 with value: 0.33939287388654477.\n",
            "[I 2025-04-20 23:19:01,575] Trial 34 finished with value: 0.3469936708860759 and parameters: {'T_max': 100, 'alpha': 0.7}. Best is trial 6 with value: 0.33939287388654477.\n",
            "[I 2025-04-20 23:19:01,577] Trial 35 finished with value: 0.34172526957337085 and parameters: {'T_max': 10000, 'alpha': 0.9}. Best is trial 6 with value: 0.33939287388654477.\n",
            "[I 2025-04-20 23:19:01,580] Trial 36 finished with value: 0.33939287388654477 and parameters: {'T_max': 100, 'alpha': 0.9}. Best is trial 6 with value: 0.33939287388654477.\n",
            "[I 2025-04-20 23:19:01,582] Trial 37 finished with value: 0.34478434130332863 and parameters: {'T_max': 100, 'alpha': 0.8}. Best is trial 6 with value: 0.33939287388654477.\n",
            "[I 2025-04-20 23:19:01,585] Trial 38 finished with value: 0.35052156586966715 and parameters: {'T_max': 5000, 'alpha': 0.7}. Best is trial 6 with value: 0.33939287388654477.\n",
            "[I 2025-04-20 23:19:01,587] Trial 39 finished with value: 0.34104547585560235 and parameters: {'T_max': 1000, 'alpha': 0.9}. Best is trial 6 with value: 0.33939287388654477.\n",
            "[I 2025-04-20 23:19:01,589] Trial 40 finished with value: 0.34172526957337085 and parameters: {'T_max': 10000, 'alpha': 0.9}. Best is trial 6 with value: 0.33939287388654477.\n",
            "[I 2025-04-20 23:19:01,591] Trial 41 finished with value: 0.33939287388654477 and parameters: {'T_max': 100, 'alpha': 0.9}. Best is trial 6 with value: 0.33939287388654477.\n",
            "[I 2025-04-20 23:19:01,594] Trial 42 finished with value: 0.33939287388654477 and parameters: {'T_max': 100, 'alpha': 0.9}. Best is trial 6 with value: 0.33939287388654477.\n",
            "[I 2025-04-20 23:19:01,596] Trial 43 finished with value: 0.33939287388654477 and parameters: {'T_max': 100, 'alpha': 0.9}. Best is trial 6 with value: 0.33939287388654477.\n",
            "[I 2025-04-20 23:19:01,598] Trial 44 finished with value: 0.34944913267698074 and parameters: {'T_max': 100, 'alpha': 0.6}. Best is trial 6 with value: 0.33939287388654477.\n",
            "[I 2025-04-20 23:19:01,601] Trial 45 finished with value: 0.34478434130332863 and parameters: {'T_max': 100, 'alpha': 0.8}. Best is trial 6 with value: 0.33939287388654477.\n",
            "[I 2025-04-20 23:19:01,603] Trial 46 finished with value: 0.34104547585560235 and parameters: {'T_max': 1000, 'alpha': 0.9}. Best is trial 6 with value: 0.33939287388654477.\n",
            "[I 2025-04-20 23:19:01,605] Trial 47 finished with value: 0.33939287388654477 and parameters: {'T_max': 100, 'alpha': 0.9}. Best is trial 6 with value: 0.33939287388654477.\n",
            "[I 2025-04-20 23:19:01,608] Trial 48 finished with value: 0.3404770276605719 and parameters: {'T_max': 5000, 'alpha': 0.9}. Best is trial 6 with value: 0.33939287388654477.\n",
            "[I 2025-04-20 23:19:01,610] Trial 49 finished with value: 0.34944913267698074 and parameters: {'T_max': 100, 'alpha': 0.6}. Best is trial 6 with value: 0.33939287388654477.\n",
            "[I 2025-04-20 23:19:01,612] Trial 50 finished with value: 0.33939287388654477 and parameters: {'T_max': 100, 'alpha': 0.9}. Best is trial 6 with value: 0.33939287388654477.\n",
            "[I 2025-04-20 23:19:01,614] Trial 51 finished with value: 0.33939287388654477 and parameters: {'T_max': 100, 'alpha': 0.9}. Best is trial 6 with value: 0.33939287388654477.\n",
            "[I 2025-04-20 23:19:01,616] Trial 52 finished with value: 0.33939287388654477 and parameters: {'T_max': 100, 'alpha': 0.9}. Best is trial 6 with value: 0.33939287388654477.\n",
            "[I 2025-04-20 23:19:01,618] Trial 53 finished with value: 0.33939287388654477 and parameters: {'T_max': 100, 'alpha': 0.9}. Best is trial 6 with value: 0.33939287388654477.\n",
            "[I 2025-04-20 23:19:01,620] Trial 54 finished with value: 0.33939287388654477 and parameters: {'T_max': 100, 'alpha': 0.9}. Best is trial 6 with value: 0.33939287388654477.\n",
            "[I 2025-04-20 23:19:01,623] Trial 55 finished with value: 0.33939287388654477 and parameters: {'T_max': 100, 'alpha': 0.9}. Best is trial 6 with value: 0.33939287388654477.\n",
            "[I 2025-04-20 23:19:01,625] Trial 56 finished with value: 0.35037505860290674 and parameters: {'T_max': 10000, 'alpha': 0.7}. Best is trial 6 with value: 0.33939287388654477.\n",
            "[I 2025-04-20 23:19:01,627] Trial 57 finished with value: 0.34478434130332863 and parameters: {'T_max': 100, 'alpha': 0.8}. Best is trial 6 with value: 0.33939287388654477.\n",
            "[I 2025-04-20 23:19:01,629] Trial 58 finished with value: 0.34104547585560235 and parameters: {'T_max': 1000, 'alpha': 0.9}. Best is trial 6 with value: 0.33939287388654477.\n",
            "[I 2025-04-20 23:19:01,632] Trial 59 finished with value: 0.33939287388654477 and parameters: {'T_max': 100, 'alpha': 0.9}. Best is trial 6 with value: 0.33939287388654477.\n",
            "[I 2025-04-20 23:19:01,634] Trial 60 finished with value: 0.3404770276605719 and parameters: {'T_max': 5000, 'alpha': 0.9}. Best is trial 6 with value: 0.33939287388654477.\n",
            "[I 2025-04-20 23:19:01,637] Trial 61 finished with value: 0.33939287388654477 and parameters: {'T_max': 100, 'alpha': 0.9}. Best is trial 6 with value: 0.33939287388654477.\n",
            "[I 2025-04-20 23:19:01,639] Trial 62 finished with value: 0.33939287388654477 and parameters: {'T_max': 100, 'alpha': 0.9}. Best is trial 6 with value: 0.33939287388654477.\n",
            "[I 2025-04-20 23:19:01,642] Trial 63 finished with value: 0.33939287388654477 and parameters: {'T_max': 100, 'alpha': 0.9}. Best is trial 6 with value: 0.33939287388654477.\n",
            "[I 2025-04-20 23:19:01,644] Trial 64 finished with value: 0.33939287388654477 and parameters: {'T_max': 100, 'alpha': 0.9}. Best is trial 6 with value: 0.33939287388654477.\n",
            "[I 2025-04-20 23:19:01,647] Trial 65 finished with value: 0.34944913267698074 and parameters: {'T_max': 100, 'alpha': 0.6}. Best is trial 6 with value: 0.33939287388654477.\n",
            "[I 2025-04-20 23:19:01,649] Trial 66 finished with value: 0.33939287388654477 and parameters: {'T_max': 100, 'alpha': 0.9}. Best is trial 6 with value: 0.33939287388654477.\n",
            "[I 2025-04-20 23:19:01,651] Trial 67 finished with value: 0.3469936708860759 and parameters: {'T_max': 100, 'alpha': 0.7}. Best is trial 6 with value: 0.33939287388654477.\n",
            "[I 2025-04-20 23:19:01,654] Trial 68 finished with value: 0.34172526957337085 and parameters: {'T_max': 10000, 'alpha': 0.9}. Best is trial 6 with value: 0.33939287388654477.\n",
            "[I 2025-04-20 23:19:01,656] Trial 69 finished with value: 0.33939287388654477 and parameters: {'T_max': 100, 'alpha': 0.9}. Best is trial 6 with value: 0.33939287388654477.\n",
            "[I 2025-04-20 23:19:01,658] Trial 70 finished with value: 0.34478434130332863 and parameters: {'T_max': 100, 'alpha': 0.8}. Best is trial 6 with value: 0.33939287388654477.\n",
            "[I 2025-04-20 23:19:01,660] Trial 71 finished with value: 0.33939287388654477 and parameters: {'T_max': 100, 'alpha': 0.9}. Best is trial 6 with value: 0.33939287388654477.\n",
            "[I 2025-04-20 23:19:01,663] Trial 72 finished with value: 0.33939287388654477 and parameters: {'T_max': 100, 'alpha': 0.9}. Best is trial 6 with value: 0.33939287388654477.\n",
            "[I 2025-04-20 23:19:01,666] Trial 73 finished with value: 0.33939287388654477 and parameters: {'T_max': 100, 'alpha': 0.9}. Best is trial 6 with value: 0.33939287388654477.\n",
            "[I 2025-04-20 23:19:01,669] Trial 74 finished with value: 0.33939287388654477 and parameters: {'T_max': 100, 'alpha': 0.9}. Best is trial 6 with value: 0.33939287388654477.\n",
            "[I 2025-04-20 23:19:01,671] Trial 75 finished with value: 0.34104547585560235 and parameters: {'T_max': 1000, 'alpha': 0.9}. Best is trial 6 with value: 0.33939287388654477.\n",
            "[I 2025-04-20 23:19:01,674] Trial 76 finished with value: 0.3404770276605719 and parameters: {'T_max': 5000, 'alpha': 0.9}. Best is trial 6 with value: 0.33939287388654477.\n",
            "[I 2025-04-20 23:19:01,676] Trial 77 finished with value: 0.33939287388654477 and parameters: {'T_max': 100, 'alpha': 0.9}. Best is trial 6 with value: 0.33939287388654477.\n",
            "[I 2025-04-20 23:19:01,678] Trial 78 finished with value: 0.34944913267698074 and parameters: {'T_max': 100, 'alpha': 0.6}. Best is trial 6 with value: 0.33939287388654477.\n",
            "[I 2025-04-20 23:19:01,681] Trial 79 finished with value: 0.33939287388654477 and parameters: {'T_max': 100, 'alpha': 0.9}. Best is trial 6 with value: 0.33939287388654477.\n",
            "[I 2025-04-20 23:19:01,683] Trial 80 finished with value: 0.3469936708860759 and parameters: {'T_max': 100, 'alpha': 0.7}. Best is trial 6 with value: 0.33939287388654477.\n",
            "[I 2025-04-20 23:19:01,686] Trial 81 finished with value: 0.33939287388654477 and parameters: {'T_max': 100, 'alpha': 0.9}. Best is trial 6 with value: 0.33939287388654477.\n",
            "[I 2025-04-20 23:19:01,689] Trial 82 finished with value: 0.33939287388654477 and parameters: {'T_max': 100, 'alpha': 0.9}. Best is trial 6 with value: 0.33939287388654477.\n"
          ]
        },
        {
          "name": "stdout",
          "output_type": "stream",
          "text": [
            "96\n"
          ]
        },
        {
          "name": "stderr",
          "output_type": "stream",
          "text": [
            "[I 2025-04-20 23:19:01,692] Trial 83 finished with value: 0.33939287388654477 and parameters: {'T_max': 100, 'alpha': 0.9}. Best is trial 6 with value: 0.33939287388654477.\n",
            "[I 2025-04-20 23:19:01,695] Trial 84 finished with value: 0.33939287388654477 and parameters: {'T_max': 100, 'alpha': 0.9}. Best is trial 6 with value: 0.33939287388654477.\n",
            "[I 2025-04-20 23:19:01,698] Trial 85 finished with value: 0.34172526957337085 and parameters: {'T_max': 10000, 'alpha': 0.9}. Best is trial 6 with value: 0.33939287388654477.\n",
            "[I 2025-04-20 23:19:01,700] Trial 86 finished with value: 0.33939287388654477 and parameters: {'T_max': 100, 'alpha': 0.9}. Best is trial 6 with value: 0.33939287388654477.\n",
            "[I 2025-04-20 23:19:01,702] Trial 87 finished with value: 0.34478434130332863 and parameters: {'T_max': 100, 'alpha': 0.8}. Best is trial 6 with value: 0.33939287388654477.\n",
            "[I 2025-04-20 23:19:01,705] Trial 88 finished with value: 0.33939287388654477 and parameters: {'T_max': 100, 'alpha': 0.9}. Best is trial 6 with value: 0.33939287388654477.\n",
            "[I 2025-04-20 23:19:01,709] Trial 89 finished with value: 0.34104547585560235 and parameters: {'T_max': 1000, 'alpha': 0.9}. Best is trial 6 with value: 0.33939287388654477.\n",
            "[I 2025-04-20 23:19:01,711] Trial 90 finished with value: 0.3404770276605719 and parameters: {'T_max': 5000, 'alpha': 0.9}. Best is trial 6 with value: 0.33939287388654477.\n",
            "[I 2025-04-20 23:19:01,715] Trial 91 finished with value: 0.33939287388654477 and parameters: {'T_max': 100, 'alpha': 0.9}. Best is trial 6 with value: 0.33939287388654477.\n",
            "[I 2025-04-20 23:19:01,718] Trial 92 finished with value: 0.33939287388654477 and parameters: {'T_max': 100, 'alpha': 0.9}. Best is trial 6 with value: 0.33939287388654477.\n",
            "[I 2025-04-20 23:19:01,720] Trial 93 finished with value: 0.33939287388654477 and parameters: {'T_max': 100, 'alpha': 0.9}. Best is trial 6 with value: 0.33939287388654477.\n",
            "[I 2025-04-20 23:19:01,724] Trial 94 finished with value: 0.33939287388654477 and parameters: {'T_max': 100, 'alpha': 0.9}. Best is trial 6 with value: 0.33939287388654477.\n",
            "[I 2025-04-20 23:19:01,726] Trial 95 finished with value: 0.33939287388654477 and parameters: {'T_max': 100, 'alpha': 0.9}. Best is trial 6 with value: 0.33939287388654477.\n"
          ]
        },
        {
          "name": "stdout",
          "output_type": "stream",
          "text": [
            "Melhores parâmetros encontrados:\n",
            "{'T_max': 100, 'alpha': 0.9}\n"
          ]
        }
      ],
      "source": [
        "n_trials = df_sa[[\"T_max\", \"alpha\", \"filename\"]].drop_duplicates().shape[0]\n",
        "\n",
        "print(n_trials)\n",
        "\n",
        "# Criar e rodar a otimização\n",
        "study = optuna.create_study(direction=\"minimize\")\n",
        "study.optimize(objective_v5, n_trials=n_trials)  # Ajuste o número de trials conforme necessário\n",
        "\n",
        "# Exibir os melhores parâmetros encontrados\n",
        "print(\"Melhores parâmetros encontrados:\")\n",
        "print(study.best_params)"
      ]
    },
    {
      "cell_type": "code",
      "execution_count": null,
      "metadata": {},
      "outputs": [],
      "source": []
    }
  ],
  "metadata": {
    "colab": {
      "provenance": []
    },
    "kernelspec": {
      "display_name": "Python 3",
      "name": "python3"
    },
    "language_info": {
      "codemirror_mode": {
        "name": "ipython",
        "version": 3
      },
      "file_extension": ".py",
      "mimetype": "text/x-python",
      "name": "python",
      "nbconvert_exporter": "python",
      "pygments_lexer": "ipython3",
      "version": "3.10.12"
    }
  },
  "nbformat": 4,
  "nbformat_minor": 0
}
